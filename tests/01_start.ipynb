{
 "cells": [
  {
   "cell_type": "code",
   "execution_count": 6,
   "metadata": {},
   "outputs": [
    {
     "name": "stderr",
     "output_type": "stream",
     "text": [
      "/home/biomega/.cache/pypoetry/virtualenvs/t5-jokes-peft-luUrfNcP-py3.12/lib/python3.12/site-packages/tqdm/auto.py:21: TqdmWarning: IProgress not found. Please update jupyter and ipywidgets. See https://ipywidgets.readthedocs.io/en/stable/user_install.html\n",
      "  from .autonotebook import tqdm as notebook_tqdm\n"
     ]
    }
   ],
   "source": [
    "import numpy as np\n",
    "import pandas as pd\n",
    "from transformers import AutoModelForSeq2SeqLM, AutoTokenizer, Trainer, TrainingArguments\n",
    "from peft import LoraConfig, get_peft_model"
   ]
  },
  {
   "cell_type": "code",
   "execution_count": 5,
   "metadata": {},
   "outputs": [
    {
     "name": "stdout",
     "output_type": "stream",
     "text": [
      "(38269, 3)\n"
     ]
    },
    {
     "data": {
      "text/html": [
       "<div>\n",
       "<style scoped>\n",
       "    .dataframe tbody tr th:only-of-type {\n",
       "        vertical-align: middle;\n",
       "    }\n",
       "\n",
       "    .dataframe tbody tr th {\n",
       "        vertical-align: top;\n",
       "    }\n",
       "\n",
       "    .dataframe thead th {\n",
       "        text-align: right;\n",
       "    }\n",
       "</style>\n",
       "<table border=\"1\" class=\"dataframe\">\n",
       "  <thead>\n",
       "    <tr style=\"text-align: right;\">\n",
       "      <th></th>\n",
       "      <th>ID</th>\n",
       "      <th>Question</th>\n",
       "      <th>Answer</th>\n",
       "    </tr>\n",
       "  </thead>\n",
       "  <tbody>\n",
       "    <tr>\n",
       "      <th>17438</th>\n",
       "      <td>17439</td>\n",
       "      <td>Why did Loki want the tesseract?</td>\n",
       "      <td>to get rid of his tesserection</td>\n",
       "    </tr>\n",
       "    <tr>\n",
       "      <th>5030</th>\n",
       "      <td>5031</td>\n",
       "      <td>What's the difference between a lawyer and a c...</td>\n",
       "      <td>Ones a scum sucking bottom feeder and the othe...</td>\n",
       "    </tr>\n",
       "    <tr>\n",
       "      <th>37095</th>\n",
       "      <td>37096</td>\n",
       "      <td>What do a frozen beer, a burnt pizza, and a pr...</td>\n",
       "      <td>Failure to pull out in time</td>\n",
       "    </tr>\n",
       "    <tr>\n",
       "      <th>4161</th>\n",
       "      <td>4162</td>\n",
       "      <td>What do you get an undertaker for a wedding gift?</td>\n",
       "      <td>His and Hearse towels</td>\n",
       "    </tr>\n",
       "    <tr>\n",
       "      <th>20229</th>\n",
       "      <td>20230</td>\n",
       "      <td>Do you know what Twitter is?</td>\n",
       "      <td>It's the spot between your twat and shitter.</td>\n",
       "    </tr>\n",
       "    <tr>\n",
       "      <th>24410</th>\n",
       "      <td>24411</td>\n",
       "      <td>What animal has more lives than a cat?</td>\n",
       "      <td>A frog. It croaks every night.</td>\n",
       "    </tr>\n",
       "    <tr>\n",
       "      <th>33407</th>\n",
       "      <td>33408</td>\n",
       "      <td>What's the difference between polite conversat...</td>\n",
       "      <td>I can maintain polite conversation.</td>\n",
       "    </tr>\n",
       "    <tr>\n",
       "      <th>29154</th>\n",
       "      <td>29155</td>\n",
       "      <td>Why is the Star Trek enterprise like toilet pa...</td>\n",
       "      <td>They both circle your anus searching for cling...</td>\n",
       "    </tr>\n",
       "    <tr>\n",
       "      <th>20265</th>\n",
       "      <td>20266</td>\n",
       "      <td>Who could it be?</td>\n",
       "      <td>there's a big idiot between the \"I\" and the \"Y...</td>\n",
       "    </tr>\n",
       "    <tr>\n",
       "      <th>32095</th>\n",
       "      <td>32096</td>\n",
       "      <td>Repost- How do you circumcise a redneck?</td>\n",
       "      <td>Kick his sister in the jaw.</td>\n",
       "    </tr>\n",
       "  </tbody>\n",
       "</table>\n",
       "</div>"
      ],
      "text/plain": [
       "          ID                                           Question  \\\n",
       "17438  17439                   Why did Loki want the tesseract?   \n",
       "5030    5031  What's the difference between a lawyer and a c...   \n",
       "37095  37096  What do a frozen beer, a burnt pizza, and a pr...   \n",
       "4161    4162  What do you get an undertaker for a wedding gift?   \n",
       "20229  20230                       Do you know what Twitter is?   \n",
       "24410  24411             What animal has more lives than a cat?   \n",
       "33407  33408  What's the difference between polite conversat...   \n",
       "29154  29155  Why is the Star Trek enterprise like toilet pa...   \n",
       "20265  20266                                   Who could it be?   \n",
       "32095  32096           Repost- How do you circumcise a redneck?   \n",
       "\n",
       "                                                  Answer  \n",
       "17438                     to get rid of his tesserection  \n",
       "5030   Ones a scum sucking bottom feeder and the othe...  \n",
       "37095                        Failure to pull out in time  \n",
       "4161                               His and Hearse towels  \n",
       "20229      It's the spot between your twat and shitter.   \n",
       "24410                     A frog. It croaks every night.  \n",
       "33407                I can maintain polite conversation.  \n",
       "29154  They both circle your anus searching for cling...  \n",
       "20265  there's a big idiot between the \"I\" and the \"Y...  \n",
       "32095                        Kick his sister in the jaw.  "
      ]
     },
     "execution_count": 5,
     "metadata": {},
     "output_type": "execute_result"
    }
   ],
   "source": [
    "df = pd.read_csv('../data/jokes.csv')\n",
    "print(df.shape)\n",
    "df.sample(10)"
   ]
  },
  {
   "cell_type": "code",
   "execution_count": 8,
   "metadata": {},
   "outputs": [
    {
     "data": {
      "application/vnd.jupyter.widget-view+json": {
       "model_id": "50a03d9f9bd540429a166af3b13d0333",
       "version_major": 2,
       "version_minor": 0
      },
      "text/plain": [
       "tokenizer_config.json:   0%|          | 0.00/2.54k [00:00<?, ?B/s]"
      ]
     },
     "metadata": {},
     "output_type": "display_data"
    },
    {
     "data": {
      "application/vnd.jupyter.widget-view+json": {
       "model_id": "1d75f5ad6ed94670a8f65cf9124668cb",
       "version_major": 2,
       "version_minor": 0
      },
      "text/plain": [
       "spiece.model:   0%|          | 0.00/792k [00:00<?, ?B/s]"
      ]
     },
     "metadata": {},
     "output_type": "display_data"
    },
    {
     "data": {
      "application/vnd.jupyter.widget-view+json": {
       "model_id": "11ca2d5745774f61b6a1333474e7c19b",
       "version_major": 2,
       "version_minor": 0
      },
      "text/plain": [
       "special_tokens_map.json:   0%|          | 0.00/2.20k [00:00<?, ?B/s]"
      ]
     },
     "metadata": {},
     "output_type": "display_data"
    },
    {
     "data": {
      "application/vnd.jupyter.widget-view+json": {
       "model_id": "dc837639ab0d491c98982c819255046e",
       "version_major": 2,
       "version_minor": 0
      },
      "text/plain": [
       "tokenizer.json:   0%|          | 0.00/2.42M [00:00<?, ?B/s]"
      ]
     },
     "metadata": {},
     "output_type": "display_data"
    },
    {
     "data": {
      "application/vnd.jupyter.widget-view+json": {
       "model_id": "7305d793871e4fd7964e4a93a618bf75",
       "version_major": 2,
       "version_minor": 0
      },
      "text/plain": [
       "config.json:   0%|          | 0.00/662 [00:00<?, ?B/s]"
      ]
     },
     "metadata": {},
     "output_type": "display_data"
    },
    {
     "data": {
      "application/vnd.jupyter.widget-view+json": {
       "model_id": "6baa76026ee4489eb09be524e134a2a5",
       "version_major": 2,
       "version_minor": 0
      },
      "text/plain": [
       "model.safetensors:   0%|          | 0.00/3.13G [00:00<?, ?B/s]"
      ]
     },
     "metadata": {},
     "output_type": "display_data"
    },
    {
     "data": {
      "application/vnd.jupyter.widget-view+json": {
       "model_id": "2b2858b8841649519b6d3bbe7e652686",
       "version_major": 2,
       "version_minor": 0
      },
      "text/plain": [
       "generation_config.json:   0%|          | 0.00/147 [00:00<?, ?B/s]"
      ]
     },
     "metadata": {},
     "output_type": "display_data"
    },
    {
     "name": "stdout",
     "output_type": "stream",
     "text": [
      "<pad> Wie alte sind Sie?</s>\n"
     ]
    }
   ],
   "source": [
    "from transformers import T5Tokenizer, T5ForConditionalGeneration\n",
    "\n",
    "tokenizer = T5Tokenizer.from_pretrained(\"google/flan-t5-large\")\n",
    "model = T5ForConditionalGeneration.from_pretrained(\"google/flan-t5-large\", device_map=\"auto\")\n",
    "\n",
    "input_text = \"translate English to German: How old are you?\"\n",
    "input_ids = tokenizer(input_text, return_tensors=\"pt\").input_ids.to(\"cuda\")\n",
    "\n",
    "outputs = model.generate(input_ids)\n",
    "print(tokenizer.decode(outputs[0]))"
   ]
  },
  {
   "cell_type": "code",
   "execution_count": 17,
   "metadata": {},
   "outputs": [
    {
     "name": "stdout",
     "output_type": "stream",
     "text": [
      "<pad> Twitter is a social networking site.</s>\n"
     ]
    }
   ],
   "source": [
    "input_text = '''\n",
    "let's write jokes in the form of a question and answer. I ask a question, you answer as a joke.\n",
    "example: \n",
    "question - 'What animal has more lives than a cat?'\n",
    "answer - 'A frog. It croaks every night.'\n",
    "lets begin: Do you know what Twitter is?\t\n",
    "'''\n",
    "input_ids = tokenizer(input_text, return_tensors=\"pt\").input_ids.to(\"cuda\")\n",
    "\n",
    "outputs = model.generate(input_ids, max_new_tokens=1000)\n",
    "print(tokenizer.decode(outputs[0]))"
   ]
  },
  {
   "cell_type": "code",
   "execution_count": null,
   "metadata": {},
   "outputs": [],
   "source": [
    "example: \n",
    "question - 'What animal has more lives than a cat?'\n",
    "answer - 'A frog. It croaks every night.'"
   ]
  },
  {
   "cell_type": "code",
   "execution_count": 7,
   "metadata": {},
   "outputs": [
    {
     "name": "stdout",
     "output_type": "stream",
     "text": [
      "True: why sky is blue\n"
     ]
    }
   ],
   "source": [
    "from transformers import AutoTokenizer, T5ForConditionalGeneration\n",
    "\n",
    "tokenizer = AutoTokenizer.from_pretrained(\"google-t5/t5-small\")\n",
    "model = T5ForConditionalGeneration.from_pretrained(\"google-t5/t5-small\")\n",
    "input_ids = tokenizer(\n",
    "    \"answer: why sky is blue\", return_tensors=\"pt\"\n",
    ").input_ids  # Batch size 1\n",
    "outputs = model.generate(input_ids)\n",
    "print(tokenizer.decode(outputs[0], skip_special_tokens=True))"
   ]
  }
 ],
 "metadata": {
  "kernelspec": {
   "display_name": "t5-jokes-peft-luUrfNcP-py3.12",
   "language": "python",
   "name": "python3"
  },
  "language_info": {
   "codemirror_mode": {
    "name": "ipython",
    "version": 3
   },
   "file_extension": ".py",
   "mimetype": "text/x-python",
   "name": "python",
   "nbconvert_exporter": "python",
   "pygments_lexer": "ipython3",
   "version": "3.12.3"
  }
 },
 "nbformat": 4,
 "nbformat_minor": 2
}
