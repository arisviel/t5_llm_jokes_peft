{
 "cells": [
  {
   "cell_type": "code",
   "execution_count": 2,
   "metadata": {},
   "outputs": [],
   "source": [
    "import pandas as pd"
   ]
  },
  {
   "cell_type": "code",
   "execution_count": 3,
   "metadata": {},
   "outputs": [
    {
     "name": "stdout",
     "output_type": "stream",
     "text": [
      "(38266, 3)\n"
     ]
    },
    {
     "data": {
      "text/html": [
       "<div>\n",
       "<style scoped>\n",
       "    .dataframe tbody tr th:only-of-type {\n",
       "        vertical-align: middle;\n",
       "    }\n",
       "\n",
       "    .dataframe tbody tr th {\n",
       "        vertical-align: top;\n",
       "    }\n",
       "\n",
       "    .dataframe thead th {\n",
       "        text-align: right;\n",
       "    }\n",
       "</style>\n",
       "<table border=\"1\" class=\"dataframe\">\n",
       "  <thead>\n",
       "    <tr style=\"text-align: right;\">\n",
       "      <th></th>\n",
       "      <th>ID</th>\n",
       "      <th>Question</th>\n",
       "      <th>Answer</th>\n",
       "    </tr>\n",
       "  </thead>\n",
       "  <tbody>\n",
       "    <tr>\n",
       "      <th>7523</th>\n",
       "      <td>7524</td>\n",
       "      <td>Did you guys hear that Donald Trump met with t...</td>\n",
       "      <td>They are the Buildawall group now.</td>\n",
       "    </tr>\n",
       "    <tr>\n",
       "      <th>35531</th>\n",
       "      <td>35532</td>\n",
       "      <td>What did Helen Keller say when she won the lot...</td>\n",
       "      <td>uunnnnnnnnnnnnngggggggggggggg!</td>\n",
       "    </tr>\n",
       "    <tr>\n",
       "      <th>33573</th>\n",
       "      <td>33574</td>\n",
       "      <td>What's yellow and smells of bananas?</td>\n",
       "      <td>Monkey vomit</td>\n",
       "    </tr>\n",
       "    <tr>\n",
       "      <th>29158</th>\n",
       "      <td>29159</td>\n",
       "      <td>What is the name of an annoying creature that ...</td>\n",
       "      <td>Luiz Suarez.</td>\n",
       "    </tr>\n",
       "    <tr>\n",
       "      <th>36906</th>\n",
       "      <td>36907</td>\n",
       "      <td>What do you call a guy with no arms and no leg...</td>\n",
       "      <td>Fucked</td>\n",
       "    </tr>\n",
       "    <tr>\n",
       "      <th>18675</th>\n",
       "      <td>18676</td>\n",
       "      <td>What mammal dies after it mates?</td>\n",
       "      <td>Anyone that goes near my wife!</td>\n",
       "    </tr>\n",
       "    <tr>\n",
       "      <th>16312</th>\n",
       "      <td>16313</td>\n",
       "      <td>Why couldn't Pikachu read his book?</td>\n",
       "      <td>Because he was dyslectric.</td>\n",
       "    </tr>\n",
       "    <tr>\n",
       "      <th>15125</th>\n",
       "      <td>15126</td>\n",
       "      <td>What does a drug addict like to do in their fr...</td>\n",
       "      <td>Netflix and pills :D</td>\n",
       "    </tr>\n",
       "    <tr>\n",
       "      <th>29933</th>\n",
       "      <td>29934</td>\n",
       "      <td>What is the difference between pot and pussy?</td>\n",
       "      <td>If you can smell the pussy across the room, it...</td>\n",
       "    </tr>\n",
       "    <tr>\n",
       "      <th>24832</th>\n",
       "      <td>24833</td>\n",
       "      <td>What is Stevie Wonder's favorite guitar chord?</td>\n",
       "      <td>C Minor</td>\n",
       "    </tr>\n",
       "  </tbody>\n",
       "</table>\n",
       "</div>"
      ],
      "text/plain": [
       "          ID                                           Question  \\\n",
       "7523    7524  Did you guys hear that Donald Trump met with t...   \n",
       "35531  35532  What did Helen Keller say when she won the lot...   \n",
       "33573  33574               What's yellow and smells of bananas?   \n",
       "29158  29159  What is the name of an annoying creature that ...   \n",
       "36906  36907  What do you call a guy with no arms and no leg...   \n",
       "18675  18676                   What mammal dies after it mates?   \n",
       "16312  16313                Why couldn't Pikachu read his book?   \n",
       "15125  15126  What does a drug addict like to do in their fr...   \n",
       "29933  29934      What is the difference between pot and pussy?   \n",
       "24832  24833     What is Stevie Wonder's favorite guitar chord?   \n",
       "\n",
       "                                                  Answer  \n",
       "7523                  They are the Buildawall group now.  \n",
       "35531                     uunnnnnnnnnnnnngggggggggggggg!  \n",
       "33573                                       Monkey vomit  \n",
       "29158                                       Luiz Suarez.  \n",
       "36906                                             Fucked  \n",
       "18675                     Anyone that goes near my wife!  \n",
       "16312                         Because he was dyslectric.  \n",
       "15125                               Netflix and pills :D  \n",
       "29933  If you can smell the pussy across the room, it...  \n",
       "24832                                           C Minor   "
      ]
     },
     "execution_count": 3,
     "metadata": {},
     "output_type": "execute_result"
    }
   ],
   "source": [
    "df = pd.read_csv('../data/jokes.csv')\n",
    "df.dropna(inplace=True)\n",
    "print(df.shape)\n",
    "df.sample(10)"
   ]
  },
  {
   "cell_type": "code",
   "execution_count": 4,
   "metadata": {},
   "outputs": [],
   "source": [
    "# Отберу айди, для примером\n",
    "id_list = [\n",
    "    20230,\n",
    "    13616,\n",
    "    11044,\n",
    "    17767,\n",
    "    32376,\n",
    "    19146,\n",
    "    27711,\n",
    "    3285\n",
    "    ]"
   ]
  },
  {
   "cell_type": "code",
   "execution_count": 5,
   "metadata": {},
   "outputs": [
    {
     "name": "stdout",
     "output_type": "stream",
     "text": [
      "What do The Sixth Sense and Titanic have in common? | Icy Dead People.\n",
      "If Hillary Clinton and Donald Drumpf are in a boat and it capsizes. Who survives? | America.\n",
      "Why do Yoda's jokes always suck? | Says the punch line first, he does.\n",
      "What do you call a little Mexican? | A paragraph. Because he's not quite an essay.\n",
      "Did you hear that Jared from Subway was caught up in a child pornography investigation? | Brings a whole new meaning to their slogan, \"Eat Fresh.\"\n",
      "Do you know what Twitter is? | It's the spot between your twat and shitter. \n",
      "How many developers does it take to change a light bulb? | None. That's a hardware problem.\n",
      "What's the speed limit of sex? | 68 Because at 69, you flip over and eat it.\n"
     ]
    }
   ],
   "source": [
    "for values in df[df['ID'].isin(id_list)].values:\n",
    "    print(values[1], '|', values[2])"
   ]
  },
  {
   "cell_type": "code",
   "execution_count": 6,
   "metadata": {},
   "outputs": [
    {
     "name": "stdout",
     "output_type": "stream",
     "text": [
      "Train size: 32520, Test size: 5738\n"
     ]
    }
   ],
   "source": [
    "# Теперь отделим трейн и тест\n",
    "valid = df[df['ID'].isin(id_list)].copy()\n",
    "df = df[~df['ID'].isin(id_list)].copy()\n",
    "test = df.sample(int(df.shape[0]*0.15))\n",
    "train = df[~df['ID'].isin(test['ID'])]\n",
    "print(f'Train size: {train.shape[0]}, Test size: {test.shape[0]}')"
   ]
  },
  {
   "cell_type": "code",
   "execution_count": 7,
   "metadata": {},
   "outputs": [],
   "source": [
    "valid.to_csv('../data/valid.csv', index=False)\n",
    "test.to_csv('../data/test.csv', index=False)\n",
    "train.to_csv('../data/train.csv', index=False)"
   ]
  }
 ],
 "metadata": {
  "kernelspec": {
   "display_name": "t5-jokes-peft-luUrfNcP-py3.12",
   "language": "python",
   "name": "python3"
  },
  "language_info": {
   "codemirror_mode": {
    "name": "ipython",
    "version": 3
   },
   "file_extension": ".py",
   "mimetype": "text/x-python",
   "name": "python",
   "nbconvert_exporter": "python",
   "pygments_lexer": "ipython3",
   "version": "3.12.3"
  }
 },
 "nbformat": 4,
 "nbformat_minor": 2
}
