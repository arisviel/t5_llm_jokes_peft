{
 "cells": [
  {
   "cell_type": "code",
   "execution_count": 1,
   "metadata": {},
   "outputs": [],
   "source": [
    "import pandas as pd"
   ]
  },
  {
   "cell_type": "code",
   "execution_count": 17,
   "metadata": {},
   "outputs": [
    {
     "name": "stdout",
     "output_type": "stream",
     "text": [
      "(38266, 3)\n"
     ]
    },
    {
     "data": {
      "text/html": [
       "<div>\n",
       "<style scoped>\n",
       "    .dataframe tbody tr th:only-of-type {\n",
       "        vertical-align: middle;\n",
       "    }\n",
       "\n",
       "    .dataframe tbody tr th {\n",
       "        vertical-align: top;\n",
       "    }\n",
       "\n",
       "    .dataframe thead th {\n",
       "        text-align: right;\n",
       "    }\n",
       "</style>\n",
       "<table border=\"1\" class=\"dataframe\">\n",
       "  <thead>\n",
       "    <tr style=\"text-align: right;\">\n",
       "      <th></th>\n",
       "      <th>ID</th>\n",
       "      <th>Question</th>\n",
       "      <th>Answer</th>\n",
       "    </tr>\n",
       "  </thead>\n",
       "  <tbody>\n",
       "    <tr>\n",
       "      <th>7958</th>\n",
       "      <td>7959</td>\n",
       "      <td>Have you heard about the new super-sensitive c...</td>\n",
       "      <td>They hang around after the man leaves and talk...</td>\n",
       "    </tr>\n",
       "    <tr>\n",
       "      <th>25006</th>\n",
       "      <td>25007</td>\n",
       "      <td>If Arnold Schwarzenegger was a composer which ...</td>\n",
       "      <td>He'd be Bach</td>\n",
       "    </tr>\n",
       "    <tr>\n",
       "      <th>29033</th>\n",
       "      <td>29034</td>\n",
       "      <td>what did the fish say to the jelous fish?</td>\n",
       "      <td>ur jellyfish</td>\n",
       "    </tr>\n",
       "    <tr>\n",
       "      <th>12761</th>\n",
       "      <td>12762</td>\n",
       "      <td>Did you hear about the explosion in the cheese...</td>\n",
       "      <td>There was de-brie everywhere.</td>\n",
       "    </tr>\n",
       "    <tr>\n",
       "      <th>9337</th>\n",
       "      <td>9338</td>\n",
       "      <td>Which band does rockclimbers listen to ?</td>\n",
       "      <td>Rolling Stones</td>\n",
       "    </tr>\n",
       "    <tr>\n",
       "      <th>5124</th>\n",
       "      <td>5125</td>\n",
       "      <td>Why did the football coach return to the bank?</td>\n",
       "      <td>To get his quarterback.</td>\n",
       "    </tr>\n",
       "    <tr>\n",
       "      <th>24087</th>\n",
       "      <td>24088</td>\n",
       "      <td>Why do terrorists recruit married men as suici...</td>\n",
       "      <td>They're easier to convince.</td>\n",
       "    </tr>\n",
       "    <tr>\n",
       "      <th>24991</th>\n",
       "      <td>24992</td>\n",
       "      <td>Ever want to have rodeo sex?</td>\n",
       "      <td>Get on top and call her by the wrong name and ...</td>\n",
       "    </tr>\n",
       "    <tr>\n",
       "      <th>26044</th>\n",
       "      <td>26045</td>\n",
       "      <td>What's the definition of a period?</td>\n",
       "      <td>A bloody waste of fucking time.</td>\n",
       "    </tr>\n",
       "    <tr>\n",
       "      <th>7353</th>\n",
       "      <td>7354</td>\n",
       "      <td>How do you measure how sad someone is?</td>\n",
       "      <td>With a blues scale</td>\n",
       "    </tr>\n",
       "  </tbody>\n",
       "</table>\n",
       "</div>"
      ],
      "text/plain": [
       "          ID                                           Question  \\\n",
       "7958    7959  Have you heard about the new super-sensitive c...   \n",
       "25006  25007  If Arnold Schwarzenegger was a composer which ...   \n",
       "29033  29034          what did the fish say to the jelous fish?   \n",
       "12761  12762  Did you hear about the explosion in the cheese...   \n",
       "9337    9338           Which band does rockclimbers listen to ?   \n",
       "5124    5125     Why did the football coach return to the bank?   \n",
       "24087  24088  Why do terrorists recruit married men as suici...   \n",
       "24991  24992                       Ever want to have rodeo sex?   \n",
       "26044  26045                 What's the definition of a period?   \n",
       "7353    7354             How do you measure how sad someone is?   \n",
       "\n",
       "                                                  Answer  \n",
       "7958   They hang around after the man leaves and talk...  \n",
       "25006                                       He'd be Bach  \n",
       "29033                                       ur jellyfish  \n",
       "12761                      There was de-brie everywhere.  \n",
       "9337                                      Rolling Stones  \n",
       "5124                            To get his quarterback.   \n",
       "24087                        They're easier to convince.  \n",
       "24991  Get on top and call her by the wrong name and ...  \n",
       "26044                    A bloody waste of fucking time.  \n",
       "7353                                 With a blues scale   "
      ]
     },
     "execution_count": 17,
     "metadata": {},
     "output_type": "execute_result"
    }
   ],
   "source": [
    "df = pd.read_csv('../data/jokes.csv')\n",
    "df.dropna(inplace=True)\n",
    "print(df.shape)\n",
    "df.sample(10)"
   ]
  },
  {
   "cell_type": "code",
   "execution_count": 29,
   "metadata": {},
   "outputs": [],
   "source": [
    "# Отберу айди, для примером\n",
    "id_list = [\n",
    "    13616,\n",
    "    11044,\n",
    "    17767,\n",
    "    27711,\n",
    "    19241,\n",
    "    17714,\n",
    "    32524\n",
    "    ]"
   ]
  },
  {
   "cell_type": "code",
   "execution_count": 30,
   "metadata": {},
   "outputs": [
    {
     "name": "stdout",
     "output_type": "stream",
     "text": [
      "If Hillary Clinton and Donald Drumpf are in a boat and it capsizes. Who survives? | America.\n",
      "Why do Yoda's jokes always suck? | Says the punch line first, he does.\n",
      "How do you call an unfanny comedian? | A youtuber.\n",
      "What do you call a little Mexican? | A paragraph. Because he's not quite an essay.\n",
      "What does rappers eat for breakfast? | Yo-ghurt. \n",
      "How many developers does it take to change a light bulb? | None. That's a hardware problem.\n",
      "What does Tarzan sing at Christmas? | Jungle Bells\n"
     ]
    }
   ],
   "source": [
    "for values in df[df['ID'].isin(id_list)].values:\n",
    "    print(values[1], '|', values[2])"
   ]
  },
  {
   "cell_type": "code",
   "execution_count": 31,
   "metadata": {},
   "outputs": [
    {
     "name": "stdout",
     "output_type": "stream",
     "text": [
      "Train size: 32521, Test size: 5738\n"
     ]
    }
   ],
   "source": [
    "# Теперь отделим трейн и тест\n",
    "valid = df[df['ID'].isin(id_list)].copy()\n",
    "df = df[~df['ID'].isin(id_list)].copy()\n",
    "test = df.sample(int(df.shape[0]*0.15))\n",
    "train = df[~df['ID'].isin(test['ID'])]\n",
    "print(f'Train size: {train.shape[0]}, Test size: {test.shape[0]}')"
   ]
  },
  {
   "cell_type": "code",
   "execution_count": 32,
   "metadata": {},
   "outputs": [],
   "source": [
    "valid.to_csv('../data/valid.csv', index=False)\n",
    "test.to_csv('../data/test.csv', index=False)\n",
    "train.to_csv('../data/train.csv', index=False)"
   ]
  }
 ],
 "metadata": {
  "kernelspec": {
   "display_name": "t5-jokes-peft-luUrfNcP-py3.12",
   "language": "python",
   "name": "python3"
  },
  "language_info": {
   "codemirror_mode": {
    "name": "ipython",
    "version": 3
   },
   "file_extension": ".py",
   "mimetype": "text/x-python",
   "name": "python",
   "nbconvert_exporter": "python",
   "pygments_lexer": "ipython3",
   "version": "3.12.3"
  }
 },
 "nbformat": 4,
 "nbformat_minor": 2
}
